{
 "cells": [
  {
   "cell_type": "code",
   "execution_count": 138,
   "id": "2d4b23f5",
   "metadata": {},
   "outputs": [],
   "source": [
    "import numpy as np"
   ]
  },
  {
   "cell_type": "code",
   "execution_count": 155,
   "id": "e5f0fc62",
   "metadata": {},
   "outputs": [],
   "source": [
    "# Define the fitness function to be optimized\n",
    "def fitness_function(x):\n",
    "    return x ** 2 "
   ]
  },
  {
   "cell_type": "code",
   "execution_count": 156,
   "id": "b4b48d98",
   "metadata": {},
   "outputs": [],
   "source": [
    "# Genetic Algorithm\n",
    "def genetic_algorithm(pop_size, num_generations, mutation_rate):\n",
    "    # Initialize a random population of solutions\n",
    "    population = np.random.uniform(-1, 1, size=(pop_size,))\n",
    "    \n",
    "    for generation in range(num_generations):\n",
    "        # Evaluate fitness for each solution in the population\n",
    "        fitness = np.array([fitness_function(x) for x in population])\n",
    "        \n",
    "        # Select parents for reproduction based on fitness\n",
    "        parents = np.random.choice(population, size=pop_size // 2, p=fitness / np.sum(fitness))\n",
    "        \n",
    "        # Perform crossover to create offspring\n",
    "        offspring = []\n",
    "        for _ in range(pop_size // 2):\n",
    "            parent1, parent2 = np.random.choice(parents, size=2, replace=False)\n",
    "            crossover_point = np.random.randint(1, 2)  # Use a fixed crossover point since parents are scalars\n",
    "            child = (parent1 + parent2) / 2  # Simple average crossover\n",
    "            offspring.append(child)\n",
    "        \n",
    "        # Perform mutation on offspring\n",
    "        for i in range(pop_size // 3):\n",
    "            if np.random.rand() < mutation_rate:\n",
    "                offspring[i] = np.random.uniform(-10, 10)\n",
    "        \n",
    "        # Replace old population with new offspring\n",
    "        population[:pop_size // 2] = parents\n",
    "        population[pop_size // 2:] = offspring\n",
    "        \n",
    "        # Display the best solution in this generation\n",
    "        best_fitness = fitness.min()\n",
    "        best_solution = population[np.argmax(fitness)]\n",
    "        print(f\"Generation {generation+1}: Best Fitness = {best_fitness:.4f}, Best Solution = {best_solution:.4f}\")\n",
    "    \n",
    "    return best_solution"
   ]
  },
  {
   "cell_type": "code",
   "execution_count": 159,
   "id": "84fcb82a",
   "metadata": {},
   "outputs": [],
   "source": [
    "# Parameters\n",
    "population_size = 200\n",
    "generations = 200\n",
    "mutation_rate = 0.9"
   ]
  },
  {
   "cell_type": "code",
   "execution_count": 160,
   "id": "4e1e7949",
   "metadata": {
    "scrolled": true
   },
   "outputs": [
    {
     "name": "stdout",
     "output_type": "stream",
     "text": [
      "Generation 1: Best Fitness = 0.0000, Best Solution = -4.5353\n",
      "Generation 2: Best Fitness = 0.0002, Best Solution = 6.9609\n",
      "Generation 3: Best Fitness = 0.0000, Best Solution = 9.3599\n",
      "Generation 4: Best Fitness = 0.0000, Best Solution = -9.7452\n",
      "Generation 5: Best Fitness = 0.0000, Best Solution = -3.4433\n",
      "Generation 6: Best Fitness = 0.0000, Best Solution = 9.4158\n",
      "Generation 7: Best Fitness = 0.0014, Best Solution = -8.6009\n",
      "Generation 8: Best Fitness = 0.0004, Best Solution = 9.6375\n",
      "Generation 9: Best Fitness = 0.0046, Best Solution = -1.9771\n",
      "Generation 10: Best Fitness = 0.0029, Best Solution = -8.6419\n",
      "Generation 11: Best Fitness = 0.0000, Best Solution = -4.6316\n",
      "Generation 12: Best Fitness = 0.0000, Best Solution = -8.8688\n",
      "Generation 13: Best Fitness = 0.0041, Best Solution = -9.4647\n",
      "Generation 14: Best Fitness = 0.0001, Best Solution = 8.7044\n",
      "Generation 15: Best Fitness = 0.0004, Best Solution = -5.4551\n",
      "Generation 16: Best Fitness = 0.0001, Best Solution = 9.4447\n",
      "Generation 17: Best Fitness = 0.0004, Best Solution = -9.2824\n",
      "Generation 18: Best Fitness = 0.0024, Best Solution = 9.6346\n",
      "Generation 19: Best Fitness = 0.0033, Best Solution = 9.1227\n",
      "Generation 20: Best Fitness = 0.0009, Best Solution = -9.6366\n",
      "Generation 21: Best Fitness = 0.0000, Best Solution = -1.5093\n",
      "Generation 22: Best Fitness = 0.0000, Best Solution = 8.1308\n",
      "Generation 23: Best Fitness = 0.0001, Best Solution = 9.5772\n",
      "Generation 24: Best Fitness = 0.0005, Best Solution = 6.2879\n",
      "Generation 25: Best Fitness = 0.0034, Best Solution = 9.7312\n",
      "Generation 26: Best Fitness = 0.0000, Best Solution = -9.4301\n",
      "Generation 27: Best Fitness = 0.0034, Best Solution = 0.6610\n",
      "Generation 28: Best Fitness = 0.0000, Best Solution = -9.8691\n",
      "Generation 29: Best Fitness = 0.0000, Best Solution = 0.1665\n",
      "Generation 30: Best Fitness = 0.0004, Best Solution = -9.6061\n",
      "Generation 31: Best Fitness = 0.0003, Best Solution = -9.2660\n",
      "Generation 32: Best Fitness = 0.0037, Best Solution = 7.5101\n",
      "Generation 33: Best Fitness = 0.0000, Best Solution = 9.2911\n",
      "Generation 34: Best Fitness = 0.0002, Best Solution = 9.3815\n",
      "Generation 35: Best Fitness = 0.0038, Best Solution = 9.3895\n",
      "Generation 36: Best Fitness = 0.0011, Best Solution = 9.4374\n",
      "Generation 37: Best Fitness = 0.0008, Best Solution = 9.5465\n",
      "Generation 38: Best Fitness = 0.0003, Best Solution = 3.8430\n",
      "Generation 39: Best Fitness = 0.0004, Best Solution = 9.6789\n",
      "Generation 40: Best Fitness = 0.0004, Best Solution = 5.8118\n",
      "Generation 41: Best Fitness = 0.0007, Best Solution = 9.2051\n",
      "Generation 42: Best Fitness = 0.0032, Best Solution = 9.2049\n",
      "Generation 43: Best Fitness = 0.0087, Best Solution = 9.1830\n",
      "Generation 44: Best Fitness = 0.0075, Best Solution = 9.3038\n",
      "Generation 45: Best Fitness = 0.0016, Best Solution = 8.9728\n",
      "Generation 46: Best Fitness = 0.0001, Best Solution = 8.3108\n",
      "Generation 47: Best Fitness = 0.0071, Best Solution = -8.6892\n",
      "Generation 48: Best Fitness = 0.0002, Best Solution = 8.5728\n",
      "Generation 49: Best Fitness = 0.0006, Best Solution = 3.5571\n",
      "Generation 50: Best Fitness = 0.0067, Best Solution = -9.9508\n",
      "Generation 51: Best Fitness = 0.0003, Best Solution = -9.4618\n",
      "Generation 52: Best Fitness = 0.0004, Best Solution = -9.0915\n",
      "Generation 53: Best Fitness = 0.0028, Best Solution = -8.5818\n",
      "Generation 54: Best Fitness = 0.0012, Best Solution = 8.4045\n",
      "Generation 55: Best Fitness = 0.0022, Best Solution = -9.6754\n",
      "Generation 56: Best Fitness = 0.0016, Best Solution = 5.7614\n",
      "Generation 57: Best Fitness = 0.0320, Best Solution = -7.9415\n",
      "Generation 58: Best Fitness = 0.0005, Best Solution = -6.8067\n",
      "Generation 59: Best Fitness = 0.0026, Best Solution = 8.3603\n",
      "Generation 60: Best Fitness = 0.0002, Best Solution = -8.5251\n",
      "Generation 61: Best Fitness = 0.0016, Best Solution = -9.8915\n",
      "Generation 62: Best Fitness = 0.0001, Best Solution = -9.3739\n",
      "Generation 63: Best Fitness = 0.0012, Best Solution = -9.4596\n",
      "Generation 64: Best Fitness = 0.0024, Best Solution = 8.3413\n",
      "Generation 65: Best Fitness = 0.0001, Best Solution = 1.0448\n",
      "Generation 66: Best Fitness = 0.0000, Best Solution = 8.3856\n",
      "Generation 67: Best Fitness = 0.0000, Best Solution = -9.6563\n",
      "Generation 68: Best Fitness = 0.0005, Best Solution = 0.8973\n",
      "Generation 69: Best Fitness = 0.0001, Best Solution = -2.8151\n",
      "Generation 70: Best Fitness = 0.0000, Best Solution = -5.8829\n",
      "Generation 71: Best Fitness = 0.0002, Best Solution = 5.1674\n",
      "Generation 72: Best Fitness = 0.0000, Best Solution = 5.2551\n",
      "Generation 73: Best Fitness = 0.0519, Best Solution = -8.4477\n",
      "Generation 74: Best Fitness = 0.0017, Best Solution = -5.5601\n",
      "Generation 75: Best Fitness = 0.0083, Best Solution = 9.7259\n",
      "Generation 76: Best Fitness = 0.0005, Best Solution = 9.7672\n",
      "Generation 77: Best Fitness = 0.0010, Best Solution = -8.7854\n",
      "Generation 78: Best Fitness = 0.0036, Best Solution = -9.0061\n",
      "Generation 79: Best Fitness = 0.0000, Best Solution = -9.0061\n",
      "Generation 80: Best Fitness = 0.0025, Best Solution = 5.9165\n",
      "Generation 81: Best Fitness = 0.0006, Best Solution = 9.6635\n",
      "Generation 82: Best Fitness = 0.0037, Best Solution = -9.2547\n",
      "Generation 83: Best Fitness = 0.0027, Best Solution = -9.0322\n",
      "Generation 84: Best Fitness = 0.0061, Best Solution = -7.6617\n",
      "Generation 85: Best Fitness = 0.0006, Best Solution = -8.8612\n",
      "Generation 86: Best Fitness = 0.0017, Best Solution = -8.7486\n",
      "Generation 87: Best Fitness = 0.0016, Best Solution = 7.9984\n",
      "Generation 88: Best Fitness = 0.0003, Best Solution = 2.5166\n",
      "Generation 89: Best Fitness = 0.0001, Best Solution = -8.7710\n",
      "Generation 90: Best Fitness = 0.0001, Best Solution = -8.8053\n",
      "Generation 91: Best Fitness = 0.0009, Best Solution = 8.2003\n",
      "Generation 92: Best Fitness = 0.0000, Best Solution = 9.7687\n",
      "Generation 93: Best Fitness = 0.0000, Best Solution = -9.3793\n",
      "Generation 94: Best Fitness = 0.0003, Best Solution = -2.9585\n",
      "Generation 95: Best Fitness = 0.0002, Best Solution = -2.0573\n",
      "Generation 96: Best Fitness = 0.0003, Best Solution = -8.7807\n",
      "Generation 97: Best Fitness = 0.0000, Best Solution = -9.2933\n",
      "Generation 98: Best Fitness = 0.0000, Best Solution = 9.3604\n",
      "Generation 99: Best Fitness = 0.0080, Best Solution = 3.3766\n",
      "Generation 100: Best Fitness = 0.0031, Best Solution = 3.5865\n",
      "Generation 101: Best Fitness = 0.0055, Best Solution = 9.0897\n",
      "Generation 102: Best Fitness = 0.0003, Best Solution = -6.5721\n",
      "Generation 103: Best Fitness = 0.0000, Best Solution = 9.4728\n",
      "Generation 104: Best Fitness = 0.0040, Best Solution = 7.7180\n",
      "Generation 105: Best Fitness = 0.0001, Best Solution = 8.5061\n",
      "Generation 106: Best Fitness = 0.0011, Best Solution = -9.4600\n",
      "Generation 107: Best Fitness = 0.0002, Best Solution = -9.7100\n",
      "Generation 108: Best Fitness = 0.0079, Best Solution = -2.7005\n",
      "Generation 109: Best Fitness = 0.0044, Best Solution = -4.8232\n",
      "Generation 110: Best Fitness = 0.0000, Best Solution = 9.3389\n",
      "Generation 111: Best Fitness = 0.0000, Best Solution = -6.7187\n",
      "Generation 112: Best Fitness = 0.0003, Best Solution = -9.7841\n",
      "Generation 113: Best Fitness = 0.0027, Best Solution = 5.7116\n",
      "Generation 114: Best Fitness = 0.0007, Best Solution = 9.0360\n",
      "Generation 115: Best Fitness = 0.0030, Best Solution = -9.7778\n",
      "Generation 116: Best Fitness = 0.0003, Best Solution = 9.7921\n",
      "Generation 117: Best Fitness = 0.0014, Best Solution = 9.6036\n",
      "Generation 118: Best Fitness = 0.0030, Best Solution = 5.1393\n",
      "Generation 119: Best Fitness = 0.0004, Best Solution = 8.8813\n",
      "Generation 120: Best Fitness = 0.0003, Best Solution = -1.7217\n",
      "Generation 121: Best Fitness = 0.0001, Best Solution = -4.8591\n",
      "Generation 122: Best Fitness = 0.0022, Best Solution = 7.9028\n",
      "Generation 123: Best Fitness = 0.0013, Best Solution = 9.1224\n",
      "Generation 124: Best Fitness = 0.0055, Best Solution = 9.9175\n",
      "Generation 125: Best Fitness = 0.0000, Best Solution = 8.9841\n",
      "Generation 126: Best Fitness = 0.0000, Best Solution = -9.5960\n",
      "Generation 127: Best Fitness = 0.0006, Best Solution = -9.5364\n",
      "Generation 128: Best Fitness = 0.0068, Best Solution = 8.8698\n",
      "Generation 129: Best Fitness = 0.0006, Best Solution = -9.5960\n",
      "Generation 130: Best Fitness = 0.0003, Best Solution = 0.1867\n",
      "Generation 131: Best Fitness = 0.0007, Best Solution = 9.1766\n",
      "Generation 132: Best Fitness = 0.0002, Best Solution = -2.1085\n",
      "Generation 133: Best Fitness = 0.0260, Best Solution = -0.3588\n",
      "Generation 134: Best Fitness = 0.0110, Best Solution = 4.4451\n",
      "Generation 135: Best Fitness = 0.0043, Best Solution = 8.3963\n",
      "Generation 136: Best Fitness = 0.0101, Best Solution = -4.8964\n",
      "Generation 137: Best Fitness = 0.0012, Best Solution = -8.9498\n",
      "Generation 138: Best Fitness = 0.0015, Best Solution = 7.0087\n",
      "Generation 139: Best Fitness = 0.0000, Best Solution = -0.1345\n",
      "Generation 140: Best Fitness = 0.0021, Best Solution = -2.3885\n",
      "Generation 141: Best Fitness = 0.0007, Best Solution = -9.8703\n",
      "Generation 142: Best Fitness = 0.0007, Best Solution = 3.5270\n",
      "Generation 143: Best Fitness = 0.0144, Best Solution = -3.2017\n",
      "Generation 144: Best Fitness = 0.0004, Best Solution = -9.4125\n",
      "Generation 145: Best Fitness = 0.0090, Best Solution = -6.0091\n",
      "Generation 146: Best Fitness = 0.0161, Best Solution = -9.8267\n",
      "Generation 147: Best Fitness = 0.0046, Best Solution = -9.2398\n",
      "Generation 148: Best Fitness = 0.0007, Best Solution = -1.9905\n",
      "Generation 149: Best Fitness = 0.0031, Best Solution = -9.2497\n",
      "Generation 150: Best Fitness = 0.0014, Best Solution = 7.4575\n",
      "Generation 151: Best Fitness = 0.0143, Best Solution = -9.9447\n",
      "Generation 152: Best Fitness = 0.0065, Best Solution = -9.3585\n",
      "Generation 153: Best Fitness = 0.0018, Best Solution = -9.3015\n",
      "Generation 154: Best Fitness = 0.0001, Best Solution = 1.0901\n",
      "Generation 155: Best Fitness = 0.0006, Best Solution = -9.4481\n",
      "Generation 156: Best Fitness = 0.0016, Best Solution = -8.8255\n",
      "Generation 157: Best Fitness = 0.0073, Best Solution = -9.7627\n",
      "Generation 158: Best Fitness = 0.0363, Best Solution = -9.2386\n",
      "Generation 159: Best Fitness = 0.0082, Best Solution = 8.6293\n",
      "Generation 160: Best Fitness = 0.0016, Best Solution = -8.2395\n",
      "Generation 161: Best Fitness = 0.0213, Best Solution = 7.6597\n",
      "Generation 162: Best Fitness = 0.0144, Best Solution = 8.6270\n",
      "Generation 163: Best Fitness = 0.0000, Best Solution = 9.1292\n",
      "Generation 164: Best Fitness = 0.0000, Best Solution = -9.1787\n",
      "Generation 165: Best Fitness = 0.0068, Best Solution = -9.2853\n"
     ]
    },
    {
     "name": "stdout",
     "output_type": "stream",
     "text": [
      "Generation 166: Best Fitness = 0.0000, Best Solution = -8.1629\n",
      "Generation 167: Best Fitness = 0.0013, Best Solution = 9.8655\n",
      "Generation 168: Best Fitness = 0.0001, Best Solution = -8.5600\n",
      "Generation 169: Best Fitness = 0.0001, Best Solution = 7.6836\n",
      "Generation 170: Best Fitness = 0.0030, Best Solution = -9.3295\n",
      "Generation 171: Best Fitness = 0.0003, Best Solution = -7.9239\n",
      "Generation 172: Best Fitness = 0.0023, Best Solution = -9.4175\n",
      "Generation 173: Best Fitness = 0.0042, Best Solution = -9.3748\n",
      "Generation 174: Best Fitness = 0.0020, Best Solution = 2.3426\n",
      "Generation 175: Best Fitness = 0.0038, Best Solution = -9.3748\n",
      "Generation 176: Best Fitness = 0.0009, Best Solution = 0.2201\n",
      "Generation 177: Best Fitness = 0.0008, Best Solution = -9.0453\n",
      "Generation 178: Best Fitness = 0.0002, Best Solution = -8.5437\n",
      "Generation 179: Best Fitness = 0.0007, Best Solution = 8.8162\n",
      "Generation 180: Best Fitness = 0.0034, Best Solution = -5.1306\n",
      "Generation 181: Best Fitness = 0.0004, Best Solution = -6.5751\n",
      "Generation 182: Best Fitness = 0.0023, Best Solution = 7.7335\n",
      "Generation 183: Best Fitness = 0.0001, Best Solution = 9.9394\n",
      "Generation 184: Best Fitness = 0.0052, Best Solution = -9.4848\n",
      "Generation 185: Best Fitness = 0.0006, Best Solution = -9.2345\n",
      "Generation 186: Best Fitness = 0.0037, Best Solution = 8.3075\n",
      "Generation 187: Best Fitness = 0.0000, Best Solution = -6.7814\n",
      "Generation 188: Best Fitness = 0.0024, Best Solution = 7.4941\n",
      "Generation 189: Best Fitness = 0.0004, Best Solution = -9.2387\n",
      "Generation 190: Best Fitness = 0.0004, Best Solution = -5.6548\n",
      "Generation 191: Best Fitness = 0.0000, Best Solution = 5.5687\n",
      "Generation 192: Best Fitness = 0.0014, Best Solution = -9.0156\n",
      "Generation 193: Best Fitness = 0.0002, Best Solution = 9.7797\n",
      "Generation 194: Best Fitness = 0.0000, Best Solution = 8.9691\n",
      "Generation 195: Best Fitness = 0.0000, Best Solution = 4.8702\n",
      "Generation 196: Best Fitness = 0.0000, Best Solution = -9.4396\n",
      "Generation 197: Best Fitness = 0.0014, Best Solution = 7.9839\n",
      "Generation 198: Best Fitness = 0.0002, Best Solution = -9.2049\n",
      "Generation 199: Best Fitness = 0.0046, Best Solution = -9.2777\n",
      "Generation 200: Best Fitness = 0.0176, Best Solution = -9.4893\n",
      "Optimal Solution: -9.489327162474265\n"
     ]
    }
   ],
   "source": [
    "# Run the genetic algorithm\n",
    "best_solution = genetic_algorithm(population_size, generations, mutation_rate)\n",
    "print(\"Optimal Solution:\", best_solution)"
   ]
  },
  {
   "cell_type": "code",
   "execution_count": null,
   "id": "041b82a4",
   "metadata": {},
   "outputs": [],
   "source": []
  },
  {
   "cell_type": "code",
   "execution_count": 44,
   "id": "7323ccaf",
   "metadata": {},
   "outputs": [],
   "source": [
    "from sklearn.svm import SVR #Regression Model\n",
    "import pandas as pd # For data wrangling\n",
    "from sklearn.model_selection import train_test_split # For data splitting\n",
    "from sklearn.preprocessing import StandardScaler # For normal distribution of the data \n",
    "from sklearn.metrics import mean_squared_error,r2_score # For model evaluation\n",
    "import numpy as np # for mathematical manipulation"
   ]
  },
  {
   "cell_type": "code",
   "execution_count": 133,
   "id": "b4c293cf",
   "metadata": {},
   "outputs": [
    {
     "data": {
      "text/html": [
       "<div>\n",
       "<style scoped>\n",
       "    .dataframe tbody tr th:only-of-type {\n",
       "        vertical-align: middle;\n",
       "    }\n",
       "\n",
       "    .dataframe tbody tr th {\n",
       "        vertical-align: top;\n",
       "    }\n",
       "\n",
       "    .dataframe thead th {\n",
       "        text-align: right;\n",
       "    }\n",
       "</style>\n",
       "<table border=\"1\" class=\"dataframe\">\n",
       "  <thead>\n",
       "    <tr style=\"text-align: right;\">\n",
       "      <th></th>\n",
       "      <th>X1</th>\n",
       "      <th>X2</th>\n",
       "      <th>X3</th>\n",
       "      <th>X4</th>\n",
       "      <th>Y</th>\n",
       "    </tr>\n",
       "  </thead>\n",
       "  <tbody>\n",
       "    <tr>\n",
       "      <th>0</th>\n",
       "      <td>80</td>\n",
       "      <td>5</td>\n",
       "      <td>105</td>\n",
       "      <td>10.5</td>\n",
       "      <td>51.68</td>\n",
       "    </tr>\n",
       "    <tr>\n",
       "      <th>1</th>\n",
       "      <td>60</td>\n",
       "      <td>3</td>\n",
       "      <td>105</td>\n",
       "      <td>10.5</td>\n",
       "      <td>59.89</td>\n",
       "    </tr>\n",
       "    <tr>\n",
       "      <th>2</th>\n",
       "      <td>60</td>\n",
       "      <td>3</td>\n",
       "      <td>105</td>\n",
       "      <td>10.5</td>\n",
       "      <td>61.09</td>\n",
       "    </tr>\n",
       "    <tr>\n",
       "      <th>3</th>\n",
       "      <td>40</td>\n",
       "      <td>3</td>\n",
       "      <td>60</td>\n",
       "      <td>10.5</td>\n",
       "      <td>49.56</td>\n",
       "    </tr>\n",
       "    <tr>\n",
       "      <th>4</th>\n",
       "      <td>40</td>\n",
       "      <td>3</td>\n",
       "      <td>150</td>\n",
       "      <td>10.5</td>\n",
       "      <td>58.02</td>\n",
       "    </tr>\n",
       "  </tbody>\n",
       "</table>\n",
       "</div>"
      ],
      "text/plain": [
       "   X1  X2   X3    X4      Y\n",
       "0  80   5  105  10.5  51.68\n",
       "1  60   3  105  10.5  59.89\n",
       "2  60   3  105  10.5  61.09\n",
       "3  40   3   60  10.5  49.56\n",
       "4  40   3  150  10.5  58.02"
      ]
     },
     "execution_count": 133,
     "metadata": {},
     "output_type": "execute_result"
    }
   ],
   "source": [
    "data=pd.read_excel(r\"C:\\Users\\USER\\Desktop\\Biodiesel Yield\\data 1.xlsx\")\n",
    "data.head()"
   ]
  },
  {
   "cell_type": "code",
   "execution_count": 85,
   "id": "b63cb954",
   "metadata": {},
   "outputs": [],
   "source": [
    "X=data.drop(columns=\"Y\")\n",
    "y=data[\"Y\"]"
   ]
  },
  {
   "cell_type": "code",
   "execution_count": 213,
   "id": "d851edad",
   "metadata": {},
   "outputs": [
    {
     "name": "stdout",
     "output_type": "stream",
     "text": [
      "(23, 4)\n",
      "(23, 1)\n"
     ]
    }
   ],
   "source": [
    "X1=X\n",
    "y1=y.values.reshape(-1,1)\n",
    "X_train1, X_test1, y_train1, y_test1= train_test_split(X1, y1, test_size=0.2, random_state=8)\n",
    "\n",
    "sc=StandardScaler() # For normal distribution of data\n",
    "X_train1=sc.fit_transform(X_train1)\n",
    "X_test1=sc.transform(X_test1)\n",
    "x_df=sc.transform(X1)\n",
    "\n",
    "sc_y=StandardScaler()\n",
    "y_train1=sc_y.fit_transform(y_train1)\n",
    "y_test1=sc_y.transform(y_test1)\n",
    "y_df=sc_y.transform(y1)\n",
    "\n",
    "print(X_train1.shape)\n",
    "print(y_train1.shape)"
   ]
  },
  {
   "cell_type": "code",
   "execution_count": 196,
   "id": "d1552ebf",
   "metadata": {},
   "outputs": [],
   "source": [
    "# Define the SVR fitness function\n",
    "def svr_fitness(solution):\n",
    "    kernel_encoded = int(solution[0])\n",
    "    c = solution[1]\n",
    "    gamma = solution[2]\n",
    "    epsilon = solution[3]\n",
    "    \n",
    "    kernel_decoded = ['linear', 'poly', 'rbf', 'precomputed'][kernel_encoded]\n",
    "    \n",
    "    svr = SVR(C=c, kernel=kernel_decoded, gamma=gamma, epsilon=epsilon)\n",
    "    svr.fit(X_train1, y_train1.ravel())\n",
    "    y_predict = svr.predict(X_test1)\n",
    "    fitness = -r2_score(y_test1, y_predict)  # Minimize negative R^2 score\n",
    "    return fitness"
   ]
  },
  {
   "cell_type": "code",
   "execution_count": 197,
   "id": "8c991809",
   "metadata": {},
   "outputs": [],
   "source": [
    "# Define the hyperparameter bounds\n",
    "param_bounds = {\n",
    "    \"kernel\": [0, 1, 2, 3],  # 0: linear, 1: poly, 2: rbf, 3: precomputed\n",
    "    \"C\": list(range(100, 1001, 100)),\n",
    "    \"gamma\": list(np.logspace(-10, 0, 10)),\n",
    "    \"epsilon\": list(np.logspace(-3, 0, 10))\n",
    "}"
   ]
  },
  {
   "cell_type": "code",
   "execution_count": 198,
   "id": "6d9660a6",
   "metadata": {},
   "outputs": [],
   "source": [
    "lb = [min(param_bounds[\"kernel\"]), min(param_bounds[\"C\"]), min(param_bounds[\"gamma\"]), min(param_bounds[\"epsilon\"])]\n",
    "ub = [max(param_bounds[\"kernel\"]), max(param_bounds[\"C\"]), max(param_bounds[\"gamma\"]), max(param_bounds[\"epsilon\"])]"
   ]
  },
  {
   "cell_type": "code",
   "execution_count": 199,
   "id": "811c3368",
   "metadata": {},
   "outputs": [],
   "source": [
    "def genetic_algorithm(pop_size, num_generations, mutation_rate):\n",
    "    # Initialize population\n",
    "    population = np.random.uniform(low=lb, high=ub, size=(pop_size, len(lb)))\n",
    "\n",
    "    # Main loop\n",
    "    for generation in range(num_generations):\n",
    "        # Evaluate fitness\n",
    "        fitness = np.array([svr_fitness(solution) for solution in population])\n",
    "        \n",
    "        # Find best solution in this generation\n",
    "        best_index = np.argmax(fitness)\n",
    "        best_fitness = fitness[best_index]\n",
    "        \n",
    "        print(f\"Generation {generation + 1}: Best Fitness = {best_fitness:.4f}\")\n",
    "        \n",
    "        # Select indices for parents based on fitness\n",
    "        parent_indices = np.argsort(fitness)[:pop_size // 2]\n",
    "        \n",
    "        # Get parents from the population array\n",
    "        parents = population[parent_indices]\n",
    "\n",
    "        # Create offspring through crossover and mutation\n",
    "        offspring = []\n",
    "        for _ in range(pop_size // 2):\n",
    "            parent1, parent2 = np.random.choice(parent_indices, size=2, replace=False)\n",
    "            parent1 = population[parent1]\n",
    "            parent2 = population[parent2]\n",
    "            crossover_point = np.random.randint(1, len(parent1) - 1)\n",
    "            child = np.concatenate((parent1[:crossover_point], parent2[crossover_point:]))\n",
    "            offspring.append(child)\n",
    "\n",
    "        offspring = np.array(offspring)\n",
    "\n",
    "        # Apply mutation\n",
    "        mask = np.random.random(size=offspring.shape) < mutation_rate\n",
    "        mutation = np.random.uniform(low=lb, high=ub, size=offspring.shape)\n",
    "        offspring[mask] = mutation[mask]\n",
    "\n",
    "        # Combine parents and offspring to form next generation\n",
    "        population = np.vstack((parents, offspring))\n",
    "    \n",
    "    # Find best solution overall\n",
    "    best_index = np.argmax(fitness)\n",
    "    best_solution = population[best_index]\n",
    "    \n",
    "    return best_solution"
   ]
  },
  {
   "cell_type": "code",
   "execution_count": 200,
   "id": "85a0fb71",
   "metadata": {},
   "outputs": [],
   "source": [
    "# Hyperparameters for the genetic algorithm\n",
    "population_size = 100\n",
    "generations = 100\n",
    "mutation_rate = 0.05"
   ]
  },
  {
   "cell_type": "code",
   "execution_count": 201,
   "id": "a59e0fde",
   "metadata": {
    "scrolled": true
   },
   "outputs": [
    {
     "name": "stdout",
     "output_type": "stream",
     "text": [
      "Generation 1: Best Fitness = 2.7615\n",
      "Generation 2: Best Fitness = 0.0338\n",
      "Generation 3: Best Fitness = 0.0013\n",
      "Generation 4: Best Fitness = 0.0038\n",
      "Generation 5: Best Fitness = -0.0669\n",
      "Generation 6: Best Fitness = -0.0272\n",
      "Generation 7: Best Fitness = -0.3003\n",
      "Generation 8: Best Fitness = -0.3489\n",
      "Generation 9: Best Fitness = -0.2821\n",
      "Generation 10: Best Fitness = 2.3147\n",
      "Generation 11: Best Fitness = -0.0183\n",
      "Generation 12: Best Fitness = 0.2640\n",
      "Generation 13: Best Fitness = 0.0148\n",
      "Generation 14: Best Fitness = 0.2640\n",
      "Generation 15: Best Fitness = -0.7715\n",
      "Generation 16: Best Fitness = 2.1985\n",
      "Generation 17: Best Fitness = -0.0400\n",
      "Generation 18: Best Fitness = -0.0971\n",
      "Generation 19: Best Fitness = 2.1985\n",
      "Generation 20: Best Fitness = -0.0862\n",
      "Generation 21: Best Fitness = -0.5968\n",
      "Generation 22: Best Fitness = 2.3147\n",
      "Generation 23: Best Fitness = 1.9647\n",
      "Generation 24: Best Fitness = -0.0665\n",
      "Generation 25: Best Fitness = 1.9647\n",
      "Generation 26: Best Fitness = 1.9647\n",
      "Generation 27: Best Fitness = 1.9647\n",
      "Generation 28: Best Fitness = 1.9647\n",
      "Generation 29: Best Fitness = 1.9647\n",
      "Generation 30: Best Fitness = 1.9683\n",
      "Generation 31: Best Fitness = -0.2270\n",
      "Generation 32: Best Fitness = -0.2601\n",
      "Generation 33: Best Fitness = -0.0589\n",
      "Generation 34: Best Fitness = -0.1530\n",
      "Generation 35: Best Fitness = 1.7830\n",
      "Generation 36: Best Fitness = -0.2213\n",
      "Generation 37: Best Fitness = -0.0573\n",
      "Generation 38: Best Fitness = 0.4348\n",
      "Generation 39: Best Fitness = -0.1711\n",
      "Generation 40: Best Fitness = 0.4348\n",
      "Generation 41: Best Fitness = 0.4348\n",
      "Generation 42: Best Fitness = -0.1874\n",
      "Generation 43: Best Fitness = 0.4185\n",
      "Generation 44: Best Fitness = 0.4185\n",
      "Generation 45: Best Fitness = -0.4727\n",
      "Generation 46: Best Fitness = -0.3004\n",
      "Generation 47: Best Fitness = 0.3418\n",
      "Generation 48: Best Fitness = 0.0166\n",
      "Generation 49: Best Fitness = -0.0415\n",
      "Generation 50: Best Fitness = -0.0440\n",
      "Generation 51: Best Fitness = -0.2161\n",
      "Generation 52: Best Fitness = -0.2697\n",
      "Generation 53: Best Fitness = -0.2745\n",
      "Generation 54: Best Fitness = -0.1678\n",
      "Generation 55: Best Fitness = -0.1561\n",
      "Generation 56: Best Fitness = 1.5070\n",
      "Generation 57: Best Fitness = -0.0571\n",
      "Generation 58: Best Fitness = -0.1609\n",
      "Generation 59: Best Fitness = 0.0772\n",
      "Generation 60: Best Fitness = -0.2883\n",
      "Generation 61: Best Fitness = -0.0650\n",
      "Generation 62: Best Fitness = -0.1091\n",
      "Generation 63: Best Fitness = -0.0491\n",
      "Generation 64: Best Fitness = -0.1141\n",
      "Generation 65: Best Fitness = -0.1712\n",
      "Generation 66: Best Fitness = -0.0817\n",
      "Generation 67: Best Fitness = -0.2883\n",
      "Generation 68: Best Fitness = 0.1112\n",
      "Generation 69: Best Fitness = -0.1313\n",
      "Generation 70: Best Fitness = -0.3004\n",
      "Generation 71: Best Fitness = -0.5105\n",
      "Generation 72: Best Fitness = -0.0365\n",
      "Generation 73: Best Fitness = -0.3004\n",
      "Generation 74: Best Fitness = -0.1812\n",
      "Generation 75: Best Fitness = -0.1007\n",
      "Generation 76: Best Fitness = -0.2415\n",
      "Generation 77: Best Fitness = -0.2883\n",
      "Generation 78: Best Fitness = -0.2883\n",
      "Generation 79: Best Fitness = -0.0386\n",
      "Generation 80: Best Fitness = -0.1775\n",
      "Generation 81: Best Fitness = -0.2883\n",
      "Generation 82: Best Fitness = -0.2883\n",
      "Generation 83: Best Fitness = -0.1181\n",
      "Generation 84: Best Fitness = -0.1283\n",
      "Generation 85: Best Fitness = -0.0420\n",
      "Generation 86: Best Fitness = -0.2419\n",
      "Generation 87: Best Fitness = -0.0422\n",
      "Generation 88: Best Fitness = -0.2266\n",
      "Generation 89: Best Fitness = -0.0441\n",
      "Generation 90: Best Fitness = -0.9786\n",
      "Generation 91: Best Fitness = -0.5309\n",
      "Generation 92: Best Fitness = -0.4381\n",
      "Generation 93: Best Fitness = -0.0421\n",
      "Generation 94: Best Fitness = -0.0547\n",
      "Generation 95: Best Fitness = -0.2999\n",
      "Generation 96: Best Fitness = -0.0389\n",
      "Generation 97: Best Fitness = -0.6248\n",
      "Generation 98: Best Fitness = -0.0547\n",
      "Generation 99: Best Fitness = -0.1451\n",
      "Generation 100: Best Fitness = -0.2419\n",
      "Best Fitness: -0.9787141115745609\n",
      "Optimal Solution: [2.91466695e+00 1.70376836e+02 1.79234205e-02 3.99592401e-02]\n"
     ]
    }
   ],
   "source": [
    "# Run the genetic algorithm\n",
    "best_solution = genetic_algorithm(population_size, generations, mutation_rate)\n",
    "best_fitness = svr_fitness(best_solution)\n",
    "print(\"Best Fitness:\", best_fitness)\n",
    "print(\"Optimal Solution:\", best_solution)"
   ]
  },
  {
   "cell_type": "code",
   "execution_count": 202,
   "id": "9f093918",
   "metadata": {},
   "outputs": [],
   "source": [
    "best_kernel_encoded = int(best_solution[0])\n",
    "best_c = best_solution[1]\n",
    "best_gamma = best_solution[2]\n",
    "best_epsilon = best_solution[3]\n",
    "best_kernel_decoded = ['linear', 'poly', 'rbf', 'precomputed'][best_kernel_encoded]"
   ]
  },
  {
   "cell_type": "code",
   "execution_count": 203,
   "id": "35198b3c",
   "metadata": {},
   "outputs": [
    {
     "name": "stdout",
     "output_type": "stream",
     "text": [
      "Best Hyperparameters using Genetic Algorithm:\n",
      "Kernel: rbf\n",
      "C: 170.37683617147707\n",
      "Gamma: 0.017923420520929097\n",
      "Epsilon: 0.03995924011626218\n"
     ]
    }
   ],
   "source": [
    "print(\"Best Hyperparameters using Genetic Algorithm:\")\n",
    "print(\"Kernel:\", best_kernel_decoded)\n",
    "print(\"C:\", best_c)\n",
    "print(\"Gamma:\", best_gamma)\n",
    "print(\"Epsilon:\", best_epsilon)"
   ]
  },
  {
   "cell_type": "code",
   "execution_count": null,
   "id": "dc2ec219",
   "metadata": {},
   "outputs": [],
   "source": []
  },
  {
   "cell_type": "code",
   "execution_count": 214,
   "id": "48166b0c",
   "metadata": {},
   "outputs": [],
   "source": [
    "svr_optimized = SVR(kernel=best_kernel_decoded,C=best_c, gamma =best_gamma,epsilon = best_epsilon)"
   ]
  },
  {
   "cell_type": "code",
   "execution_count": 215,
   "id": "32a9178a",
   "metadata": {},
   "outputs": [
    {
     "data": {
      "text/html": [
       "<style>#sk-container-id-4 {color: black;}#sk-container-id-4 pre{padding: 0;}#sk-container-id-4 div.sk-toggleable {background-color: white;}#sk-container-id-4 label.sk-toggleable__label {cursor: pointer;display: block;width: 100%;margin-bottom: 0;padding: 0.3em;box-sizing: border-box;text-align: center;}#sk-container-id-4 label.sk-toggleable__label-arrow:before {content: \"▸\";float: left;margin-right: 0.25em;color: #696969;}#sk-container-id-4 label.sk-toggleable__label-arrow:hover:before {color: black;}#sk-container-id-4 div.sk-estimator:hover label.sk-toggleable__label-arrow:before {color: black;}#sk-container-id-4 div.sk-toggleable__content {max-height: 0;max-width: 0;overflow: hidden;text-align: left;background-color: #f0f8ff;}#sk-container-id-4 div.sk-toggleable__content pre {margin: 0.2em;color: black;border-radius: 0.25em;background-color: #f0f8ff;}#sk-container-id-4 input.sk-toggleable__control:checked~div.sk-toggleable__content {max-height: 200px;max-width: 100%;overflow: auto;}#sk-container-id-4 input.sk-toggleable__control:checked~label.sk-toggleable__label-arrow:before {content: \"▾\";}#sk-container-id-4 div.sk-estimator input.sk-toggleable__control:checked~label.sk-toggleable__label {background-color: #d4ebff;}#sk-container-id-4 div.sk-label input.sk-toggleable__control:checked~label.sk-toggleable__label {background-color: #d4ebff;}#sk-container-id-4 input.sk-hidden--visually {border: 0;clip: rect(1px 1px 1px 1px);clip: rect(1px, 1px, 1px, 1px);height: 1px;margin: -1px;overflow: hidden;padding: 0;position: absolute;width: 1px;}#sk-container-id-4 div.sk-estimator {font-family: monospace;background-color: #f0f8ff;border: 1px dotted black;border-radius: 0.25em;box-sizing: border-box;margin-bottom: 0.5em;}#sk-container-id-4 div.sk-estimator:hover {background-color: #d4ebff;}#sk-container-id-4 div.sk-parallel-item::after {content: \"\";width: 100%;border-bottom: 1px solid gray;flex-grow: 1;}#sk-container-id-4 div.sk-label:hover label.sk-toggleable__label {background-color: #d4ebff;}#sk-container-id-4 div.sk-serial::before {content: \"\";position: absolute;border-left: 1px solid gray;box-sizing: border-box;top: 0;bottom: 0;left: 50%;z-index: 0;}#sk-container-id-4 div.sk-serial {display: flex;flex-direction: column;align-items: center;background-color: white;padding-right: 0.2em;padding-left: 0.2em;position: relative;}#sk-container-id-4 div.sk-item {position: relative;z-index: 1;}#sk-container-id-4 div.sk-parallel {display: flex;align-items: stretch;justify-content: center;background-color: white;position: relative;}#sk-container-id-4 div.sk-item::before, #sk-container-id-4 div.sk-parallel-item::before {content: \"\";position: absolute;border-left: 1px solid gray;box-sizing: border-box;top: 0;bottom: 0;left: 50%;z-index: -1;}#sk-container-id-4 div.sk-parallel-item {display: flex;flex-direction: column;z-index: 1;position: relative;background-color: white;}#sk-container-id-4 div.sk-parallel-item:first-child::after {align-self: flex-end;width: 50%;}#sk-container-id-4 div.sk-parallel-item:last-child::after {align-self: flex-start;width: 50%;}#sk-container-id-4 div.sk-parallel-item:only-child::after {width: 0;}#sk-container-id-4 div.sk-dashed-wrapped {border: 1px dashed gray;margin: 0 0.4em 0.5em 0.4em;box-sizing: border-box;padding-bottom: 0.4em;background-color: white;}#sk-container-id-4 div.sk-label label {font-family: monospace;font-weight: bold;display: inline-block;line-height: 1.2em;}#sk-container-id-4 div.sk-label-container {text-align: center;}#sk-container-id-4 div.sk-container {/* jupyter's `normalize.less` sets `[hidden] { display: none; }` but bootstrap.min.css set `[hidden] { display: none !important; }` so we also need the `!important` here to be able to override the default hidden behavior on the sphinx rendered scikit-learn.org. See: https://github.com/scikit-learn/scikit-learn/issues/21755 */display: inline-block !important;position: relative;}#sk-container-id-4 div.sk-text-repr-fallback {display: none;}</style><div id=\"sk-container-id-4\" class=\"sk-top-container\"><div class=\"sk-text-repr-fallback\"><pre>SVR(C=170.37683617147707, epsilon=0.03995924011626218,\n",
       "    gamma=0.017923420520929097)</pre><b>In a Jupyter environment, please rerun this cell to show the HTML representation or trust the notebook. <br />On GitHub, the HTML representation is unable to render, please try loading this page with nbviewer.org.</b></div><div class=\"sk-container\" hidden><div class=\"sk-item\"><div class=\"sk-estimator sk-toggleable\"><input class=\"sk-toggleable__control sk-hidden--visually\" id=\"sk-estimator-id-4\" type=\"checkbox\" checked><label for=\"sk-estimator-id-4\" class=\"sk-toggleable__label sk-toggleable__label-arrow\">SVR</label><div class=\"sk-toggleable__content\"><pre>SVR(C=170.37683617147707, epsilon=0.03995924011626218,\n",
       "    gamma=0.017923420520929097)</pre></div></div></div></div></div>"
      ],
      "text/plain": [
       "SVR(C=170.37683617147707, epsilon=0.03995924011626218,\n",
       "    gamma=0.017923420520929097)"
      ]
     },
     "execution_count": 215,
     "metadata": {},
     "output_type": "execute_result"
    }
   ],
   "source": [
    "svr_optimized.fit(X_train1, y_train1.ravel())"
   ]
  },
  {
   "cell_type": "code",
   "execution_count": 216,
   "id": "e9634cd5",
   "metadata": {},
   "outputs": [],
   "source": [
    "pred_test = svr_optimized.predict(X_test1)"
   ]
  },
  {
   "cell_type": "code",
   "execution_count": 217,
   "id": "c13f4c18",
   "metadata": {},
   "outputs": [
    {
     "name": "stdout",
     "output_type": "stream",
     "text": [
      "R^2 score of Test set prediction using GA: 0.9787141115745573\n"
     ]
    }
   ],
   "source": [
    "from sklearn.metrics import r2_score\n",
    "print(\"R^2 score of Test set prediction using GA:\", r2_score(y_test1,pred_test))"
   ]
  },
  {
   "cell_type": "code",
   "execution_count": null,
   "id": "040e9adf",
   "metadata": {},
   "outputs": [],
   "source": []
  },
  {
   "cell_type": "code",
   "execution_count": 232,
   "id": "1a9869e4",
   "metadata": {},
   "outputs": [],
   "source": [
    "model = svr_optimized.fit(X, y)"
   ]
  },
  {
   "cell_type": "code",
   "execution_count": 233,
   "id": "ead98b7c",
   "metadata": {},
   "outputs": [],
   "source": [
    "# Create a function to be optimized by the algorithms\n",
    "def obj_fun(X):\n",
    "    results = model.predict(X.reshape(1, -1))  # Reshape X to match the number of features\n",
    "    return -results  # Negative to maximize the prediction (Yield)"
   ]
  },
  {
   "cell_type": "code",
   "execution_count": 5,
   "id": "6d6d50c4",
   "metadata": {},
   "outputs": [],
   "source": [
    "def genetic_algorithm(pop_size, num_generations, mutation_rate):\n",
    "    # Initialize population\n",
    "    population = np.random.uniform(low=lb, high=ub, size=(pop_size, len(lb)))\n",
    "\n",
    "    # Main loop\n",
    "    for generation in range(num_generations):\n",
    "        # Evaluate fitness\n",
    "        fitness = np.array([obj_fun(solution) for solution in population])\n",
    "        \n",
    "        # Find best solution in this generation\n",
    "        best_index = np.argmax(fitness)\n",
    "        best_fitness = fitness[best_index]\n",
    "        \n",
    "        print(f\"Generation {generation + 1}: Best Fitness = {best_fitness:.4f}\")\n",
    "        \n",
    "        # Select indices for parents based on fitness\n",
    "        parent_indices = np.argsort(fitness)[:pop_size // 2].ravel()\n",
    "        \n",
    "        # Get parents from the population array\n",
    "        parents = population[parent_indices]\n",
    "        print(\"parent_indices shape:\", parent_indices.shape)\n",
    "\n",
    "        # Create offspring through crossover and mutation\n",
    "        offspring = []\n",
    "        for _ in range(pop_size // 2):\n",
    "            parent1, parent2 = np.random.choice(parent_indices, size=2, replace=False)\n",
    "            parent1 = population[parent1]\n",
    "            parent2 = population[parent2]\n",
    "            crossover_point = np.random.randint(1, len(parent1) - 1)\n",
    "            child = np.concatenate((parent1[:crossover_point], parent2[crossover_point:]))\n",
    "            offspring.append(child)\n",
    "\n",
    "        offspring = np.array(offspring)\n",
    "\n",
    "        # Apply mutation\n",
    "        mask = np.random.random(size=offspring.shape) < mutation_rate\n",
    "        mutation = np.random.uniform(low=lb, high=ub, size=offspring.shape)\n",
    "        offspring[mask] = mutation[mask]\n",
    "\n",
    "        # Combine parents and offspring to form next generation\n",
    "        population = np.vstack((parents, offspring))\n",
    "    \n",
    "    # Find best solution overall\n",
    "    best_index = np.argmax(fitness)\n",
    "    best_solution = population[best_index]\n",
    "    \n",
    "    return best_solution\n"
   ]
  },
  {
   "cell_type": "code",
   "execution_count": 6,
   "id": "ca496d0c",
   "metadata": {},
   "outputs": [
    {
     "ename": "NameError",
     "evalue": "name 'data' is not defined",
     "output_type": "error",
     "traceback": [
      "\u001b[1;31m---------------------------------------------------------------------------\u001b[0m",
      "\u001b[1;31mNameError\u001b[0m                                 Traceback (most recent call last)",
      "\u001b[1;32m~\\AppData\\Local\\Temp\\ipykernel_5732\\1354548847.py\u001b[0m in \u001b[0;36m<module>\u001b[1;34m\u001b[0m\n\u001b[1;32m----> 1\u001b[1;33m \u001b[0mlb\u001b[0m \u001b[1;33m=\u001b[0m \u001b[1;33m[\u001b[0m\u001b[0mdata\u001b[0m\u001b[1;33m[\u001b[0m\u001b[1;34m'X1'\u001b[0m\u001b[1;33m]\u001b[0m\u001b[1;33m.\u001b[0m\u001b[0mmin\u001b[0m\u001b[1;33m(\u001b[0m\u001b[1;33m)\u001b[0m\u001b[1;33m,\u001b[0m \u001b[0mdata\u001b[0m\u001b[1;33m[\u001b[0m\u001b[1;34m'X2'\u001b[0m\u001b[1;33m]\u001b[0m\u001b[1;33m.\u001b[0m\u001b[0mmin\u001b[0m\u001b[1;33m(\u001b[0m\u001b[1;33m)\u001b[0m\u001b[1;33m,\u001b[0m\u001b[0mdata\u001b[0m\u001b[1;33m[\u001b[0m\u001b[1;34m'X3'\u001b[0m\u001b[1;33m]\u001b[0m\u001b[1;33m.\u001b[0m\u001b[0mmin\u001b[0m\u001b[1;33m(\u001b[0m\u001b[1;33m)\u001b[0m\u001b[1;33m,\u001b[0m \u001b[0mdata\u001b[0m\u001b[1;33m[\u001b[0m\u001b[1;34m'X4'\u001b[0m\u001b[1;33m]\u001b[0m\u001b[1;33m.\u001b[0m\u001b[0mmin\u001b[0m\u001b[1;33m(\u001b[0m\u001b[1;33m)\u001b[0m\u001b[1;33m]\u001b[0m\u001b[1;33m\u001b[0m\u001b[1;33m\u001b[0m\u001b[0m\n\u001b[0m\u001b[0;32m      2\u001b[0m \u001b[0mub\u001b[0m \u001b[1;33m=\u001b[0m \u001b[1;33m[\u001b[0m\u001b[0mdata\u001b[0m\u001b[1;33m[\u001b[0m\u001b[1;34m'X1'\u001b[0m\u001b[1;33m]\u001b[0m\u001b[1;33m.\u001b[0m\u001b[0mmax\u001b[0m\u001b[1;33m(\u001b[0m\u001b[1;33m)\u001b[0m\u001b[1;33m,\u001b[0m \u001b[0mdata\u001b[0m\u001b[1;33m[\u001b[0m\u001b[1;34m'X2'\u001b[0m\u001b[1;33m]\u001b[0m\u001b[1;33m.\u001b[0m\u001b[0mmax\u001b[0m\u001b[1;33m(\u001b[0m\u001b[1;33m)\u001b[0m\u001b[1;33m,\u001b[0m\u001b[0mdata\u001b[0m\u001b[1;33m[\u001b[0m\u001b[1;34m'X3'\u001b[0m\u001b[1;33m]\u001b[0m\u001b[1;33m.\u001b[0m\u001b[0mmax\u001b[0m\u001b[1;33m(\u001b[0m\u001b[1;33m)\u001b[0m\u001b[1;33m,\u001b[0m \u001b[0mdata\u001b[0m\u001b[1;33m[\u001b[0m\u001b[1;34m'X4'\u001b[0m\u001b[1;33m]\u001b[0m\u001b[1;33m.\u001b[0m\u001b[0mmax\u001b[0m\u001b[1;33m(\u001b[0m\u001b[1;33m)\u001b[0m\u001b[1;33m]\u001b[0m\u001b[1;33m\u001b[0m\u001b[1;33m\u001b[0m\u001b[0m\n",
      "\u001b[1;31mNameError\u001b[0m: name 'data' is not defined"
     ]
    }
   ],
   "source": [
    "lb = [data['X1'].min(), data['X2'].min(),data['X3'].min(), data['X4'].min()]\n",
    "ub = [data['X1'].max(), data['X2'].max(),data['X3'].max(), data['X4'].max()]\n"
   ]
  },
  {
   "cell_type": "code",
   "execution_count": 3,
   "id": "4e7b53be",
   "metadata": {},
   "outputs": [],
   "source": [
    "# Hyperparameters for the genetic algorithm\n",
    "population_size = 200\n",
    "generations = 100\n",
    "mutation_rate = 0.05"
   ]
  },
  {
   "cell_type": "code",
   "execution_count": 4,
   "id": "e99ab5f0",
   "metadata": {
    "scrolled": true
   },
   "outputs": [
    {
     "ename": "NameError",
     "evalue": "name 'np' is not defined",
     "output_type": "error",
     "traceback": [
      "\u001b[1;31m---------------------------------------------------------------------------\u001b[0m",
      "\u001b[1;31mNameError\u001b[0m                                 Traceback (most recent call last)",
      "\u001b[1;32m~\\AppData\\Local\\Temp\\ipykernel_5732\\3261962683.py\u001b[0m in \u001b[0;36m<module>\u001b[1;34m\u001b[0m\n\u001b[0;32m      1\u001b[0m \u001b[1;31m# Run the genetic algorithm\u001b[0m\u001b[1;33m\u001b[0m\u001b[1;33m\u001b[0m\u001b[0m\n\u001b[1;32m----> 2\u001b[1;33m \u001b[0mop_best_solution\u001b[0m \u001b[1;33m=\u001b[0m \u001b[0mgenetic_algorithm\u001b[0m\u001b[1;33m(\u001b[0m\u001b[0mpopulation_size\u001b[0m\u001b[1;33m,\u001b[0m \u001b[0mgenerations\u001b[0m\u001b[1;33m,\u001b[0m \u001b[0mmutation_rate\u001b[0m\u001b[1;33m)\u001b[0m\u001b[1;33m\u001b[0m\u001b[1;33m\u001b[0m\u001b[0m\n\u001b[0m\u001b[0;32m      3\u001b[0m \u001b[0mop_best_fitness\u001b[0m \u001b[1;33m=\u001b[0m \u001b[0mobj_fun\u001b[0m\u001b[1;33m(\u001b[0m\u001b[0mop_best_solution\u001b[0m\u001b[1;33m)\u001b[0m\u001b[1;33m\u001b[0m\u001b[1;33m\u001b[0m\u001b[0m\n\u001b[0;32m      4\u001b[0m \u001b[0mprint\u001b[0m\u001b[1;33m(\u001b[0m\u001b[1;34m\"Best Fitness:\"\u001b[0m\u001b[1;33m,\u001b[0m \u001b[0mop_best_fitness\u001b[0m\u001b[1;33m)\u001b[0m\u001b[1;33m\u001b[0m\u001b[1;33m\u001b[0m\u001b[0m\n\u001b[0;32m      5\u001b[0m \u001b[0mprint\u001b[0m\u001b[1;33m(\u001b[0m\u001b[1;34m\"Optimal Solution:\"\u001b[0m\u001b[1;33m,\u001b[0m \u001b[0mop_best_solution\u001b[0m\u001b[1;33m)\u001b[0m\u001b[1;33m\u001b[0m\u001b[1;33m\u001b[0m\u001b[0m\n",
      "\u001b[1;32m~\\AppData\\Local\\Temp\\ipykernel_5732\\2824447571.py\u001b[0m in \u001b[0;36mgenetic_algorithm\u001b[1;34m(pop_size, num_generations, mutation_rate)\u001b[0m\n\u001b[0;32m      1\u001b[0m \u001b[1;32mdef\u001b[0m \u001b[0mgenetic_algorithm\u001b[0m\u001b[1;33m(\u001b[0m\u001b[0mpop_size\u001b[0m\u001b[1;33m,\u001b[0m \u001b[0mnum_generations\u001b[0m\u001b[1;33m,\u001b[0m \u001b[0mmutation_rate\u001b[0m\u001b[1;33m)\u001b[0m\u001b[1;33m:\u001b[0m\u001b[1;33m\u001b[0m\u001b[1;33m\u001b[0m\u001b[0m\n\u001b[0;32m      2\u001b[0m     \u001b[1;31m# Initialize population\u001b[0m\u001b[1;33m\u001b[0m\u001b[1;33m\u001b[0m\u001b[0m\n\u001b[1;32m----> 3\u001b[1;33m     \u001b[0mpopulation\u001b[0m \u001b[1;33m=\u001b[0m \u001b[0mnp\u001b[0m\u001b[1;33m.\u001b[0m\u001b[0mrandom\u001b[0m\u001b[1;33m.\u001b[0m\u001b[0muniform\u001b[0m\u001b[1;33m(\u001b[0m\u001b[0mlow\u001b[0m\u001b[1;33m=\u001b[0m\u001b[0mlb\u001b[0m\u001b[1;33m,\u001b[0m \u001b[0mhigh\u001b[0m\u001b[1;33m=\u001b[0m\u001b[0mub\u001b[0m\u001b[1;33m,\u001b[0m \u001b[0msize\u001b[0m\u001b[1;33m=\u001b[0m\u001b[1;33m(\u001b[0m\u001b[0mpop_size\u001b[0m\u001b[1;33m,\u001b[0m \u001b[0mlen\u001b[0m\u001b[1;33m(\u001b[0m\u001b[0mlb\u001b[0m\u001b[1;33m)\u001b[0m\u001b[1;33m)\u001b[0m\u001b[1;33m)\u001b[0m\u001b[1;33m\u001b[0m\u001b[1;33m\u001b[0m\u001b[0m\n\u001b[0m\u001b[0;32m      4\u001b[0m \u001b[1;33m\u001b[0m\u001b[0m\n\u001b[0;32m      5\u001b[0m     \u001b[1;31m# Main loop\u001b[0m\u001b[1;33m\u001b[0m\u001b[1;33m\u001b[0m\u001b[0m\n",
      "\u001b[1;31mNameError\u001b[0m: name 'np' is not defined"
     ]
    }
   ],
   "source": [
    "# Run the genetic algorithm\n",
    "op_best_solution = genetic_algorithm(population_size, generations, mutation_rate)\n",
    "op_best_fitness = obj_fun(op_best_solution)\n",
    "print(\"Best Fitness:\", op_best_fitness)\n",
    "print(\"Optimal Solution:\", op_best_solution)"
   ]
  },
  {
   "cell_type": "code",
   "execution_count": 226,
   "id": "dad2a9bd",
   "metadata": {},
   "outputs": [
    {
     "name": "stdout",
     "output_type": "stream",
     "text": [
      "Best Solution:\n",
      "X1: 2.0012563124190677\n",
      "X2: 894.0842180036801\n",
      "X3: 0.016766258983957918\n",
      "X4: 0.04230525251466458\n",
      "Best Fitness: [58.91492847]\n"
     ]
    }
   ],
   "source": [
    "print(\"Best Solution:\")\n",
    "print(\"X1:\", op_best_solution[0])\n",
    "print(\"X2:\", op_best_solution[1])\n",
    "print(\"X3:\", op_best_solution[2])\n",
    "print(\"X4:\", op_best_solution[3])\n",
    "print(\"Best Fitness:\", -op_best_fitness)  # Convert back to positive as it was negated for maximization"
   ]
  },
  {
   "cell_type": "code",
   "execution_count": null,
   "id": "77f0c5ca",
   "metadata": {},
   "outputs": [],
   "source": []
  }
 ],
 "metadata": {
  "kernelspec": {
   "display_name": "Python 3 (ipykernel)",
   "language": "python",
   "name": "python3"
  },
  "language_info": {
   "codemirror_mode": {
    "name": "ipython",
    "version": 3
   },
   "file_extension": ".py",
   "mimetype": "text/x-python",
   "name": "python",
   "nbconvert_exporter": "python",
   "pygments_lexer": "ipython3",
   "version": "3.9.13"
  }
 },
 "nbformat": 4,
 "nbformat_minor": 5
}
