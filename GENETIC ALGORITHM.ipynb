{
 "cells": [
  {
   "cell_type": "code",
   "execution_count": 68,
   "id": "4b33eede",
   "metadata": {},
   "outputs": [],
   "source": [
    "from sklearn.ensemble import RandomForestRegressor  #Regression Model\n",
    "import pandas as pd # For data wrangling\n",
    "from sklearn.model_selection import train_test_split # For data splitting\n",
    "from sklearn.metrics import mean_squared_error,r2_score # For model evaluation\n",
    "import numpy as np # for mathematical manipulation\n",
    "import warnings\n",
    "from sklearn.exceptions import DataConversionWarning\n",
    "warnings.filterwarnings(\"ignore\", category=UserWarning)\n",
    "warnings.filterwarnings(\"ignore\", category=DataConversionWarning)"
   ]
  },
  {
   "cell_type": "code",
   "execution_count": 119,
   "id": "05406141",
   "metadata": {},
   "outputs": [
    {
     "data": {
      "text/html": [
       "<div>\n",
       "<style scoped>\n",
       "    .dataframe tbody tr th:only-of-type {\n",
       "        vertical-align: middle;\n",
       "    }\n",
       "\n",
       "    .dataframe tbody tr th {\n",
       "        vertical-align: top;\n",
       "    }\n",
       "\n",
       "    .dataframe thead th {\n",
       "        text-align: right;\n",
       "    }\n",
       "</style>\n",
       "<table border=\"1\" class=\"dataframe\">\n",
       "  <thead>\n",
       "    <tr style=\"text-align: right;\">\n",
       "      <th></th>\n",
       "      <th>X1</th>\n",
       "      <th>X2</th>\n",
       "      <th>X3</th>\n",
       "      <th>X4</th>\n",
       "      <th>Y</th>\n",
       "    </tr>\n",
       "  </thead>\n",
       "  <tbody>\n",
       "    <tr>\n",
       "      <th>0</th>\n",
       "      <td>80</td>\n",
       "      <td>5</td>\n",
       "      <td>105</td>\n",
       "      <td>10.5</td>\n",
       "      <td>51.68</td>\n",
       "    </tr>\n",
       "    <tr>\n",
       "      <th>1</th>\n",
       "      <td>60</td>\n",
       "      <td>3</td>\n",
       "      <td>105</td>\n",
       "      <td>10.5</td>\n",
       "      <td>59.89</td>\n",
       "    </tr>\n",
       "    <tr>\n",
       "      <th>2</th>\n",
       "      <td>60</td>\n",
       "      <td>3</td>\n",
       "      <td>105</td>\n",
       "      <td>10.5</td>\n",
       "      <td>61.09</td>\n",
       "    </tr>\n",
       "    <tr>\n",
       "      <th>3</th>\n",
       "      <td>40</td>\n",
       "      <td>3</td>\n",
       "      <td>60</td>\n",
       "      <td>10.5</td>\n",
       "      <td>49.56</td>\n",
       "    </tr>\n",
       "    <tr>\n",
       "      <th>4</th>\n",
       "      <td>40</td>\n",
       "      <td>3</td>\n",
       "      <td>150</td>\n",
       "      <td>10.5</td>\n",
       "      <td>58.02</td>\n",
       "    </tr>\n",
       "  </tbody>\n",
       "</table>\n",
       "</div>"
      ],
      "text/plain": [
       "   X1  X2   X3    X4      Y\n",
       "0  80   5  105  10.5  51.68\n",
       "1  60   3  105  10.5  59.89\n",
       "2  60   3  105  10.5  61.09\n",
       "3  40   3   60  10.5  49.56\n",
       "4  40   3  150  10.5  58.02"
      ]
     },
     "execution_count": 119,
     "metadata": {},
     "output_type": "execute_result"
    }
   ],
   "source": [
    "data=pd.read_excel(r\"C:\\Users\\USER\\Desktop\\Biodiesel Yield\\data 1.xlsx\")\n",
    "data.head()"
   ]
  },
  {
   "cell_type": "code",
   "execution_count": 120,
   "id": "3ff55441",
   "metadata": {},
   "outputs": [],
   "source": [
    "X=data.drop(columns=\"Y\")\n",
    "y=data[\"Y\"]"
   ]
  },
  {
   "cell_type": "code",
   "execution_count": 121,
   "id": "1f9f619c",
   "metadata": {},
   "outputs": [
    {
     "name": "stdout",
     "output_type": "stream",
     "text": [
      "(23, 4)\n",
      "(23, 1)\n"
     ]
    }
   ],
   "source": [
    "X1=X.values\n",
    "y1=y.values.reshape(-1,1)\n",
    "X_train1, X_test1, y_train1, y_test1= train_test_split(X1, y1, test_size=0.2, random_state=8)\n",
    "\n",
    "print(X_train1.shape)\n",
    "print(y_train1.shape)"
   ]
  },
  {
   "cell_type": "code",
   "execution_count": 122,
   "id": "af1cc1d1",
   "metadata": {},
   "outputs": [],
   "source": [
    "# Define the RF fitness function\n",
    "def ran_forest_fitness(solution):\n",
    "    n_estimators = int(solution[0])\n",
    "    max_features = int(solution[1])\n",
    "    min_samples_leaf = int(solution[2])\n",
    "    max_depth = int(solution[3])\n",
    "        \n",
    "    rf = RandomForestRegressor(n_estimators=n_estimators, max_features=max_features, \n",
    "                               min_samples_leaf=min_samples_leaf, max_depth=max_depth)\n",
    "    rf.fit(X_train1, y_train1.ravel())\n",
    "    y_predict = rf.predict(X_test1)\n",
    "    fitness = -r2_score(y_test1, y_predict)  # Minimize negative R^2 score\n",
    "    return fitness"
   ]
  },
  {
   "cell_type": "code",
   "execution_count": 123,
   "id": "c1c0cc28",
   "metadata": {},
   "outputs": [
    {
     "data": {
      "text/plain": [
       "{'n_estimators': [100, 200, 300, 400, 500],\n",
       " 'max_features': [1, 2, 3, 4],\n",
       " 'min_samples_leaf': [1, 2, 3],\n",
       " 'max_depth': [1, 2, 3, 4, 5]}"
      ]
     },
     "execution_count": 123,
     "metadata": {},
     "output_type": "execute_result"
    }
   ],
   "source": [
    "# Define the hyperparameter bounds\n",
    "param_bounds = {\n",
    "    \"n_estimators\": list(range(100,501,100)),  \n",
    "    \"max_features\": [1, 2, 3, 4],\n",
    "    \"min_samples_leaf\": [1,2,3],\n",
    "    \"max_depth\":  list(range(1, 6))\n",
    "}\n",
    "param_bounds"
   ]
  },
  {
   "cell_type": "code",
   "execution_count": 124,
   "id": "8ef56810",
   "metadata": {},
   "outputs": [],
   "source": [
    "lb = [min(param_bounds[\"n_estimators\"]), min(param_bounds[\"max_features\"]), \n",
    "      min(param_bounds[\"min_samples_leaf\"]), min(param_bounds[\"max_depth\"])]\n",
    "\n",
    "ub = [max(param_bounds[\"n_estimators\"]), max(param_bounds[\"max_features\"]), \n",
    "      max(param_bounds[\"min_samples_leaf\"]), max(param_bounds[\"max_depth\"])]"
   ]
  },
  {
   "cell_type": "code",
   "execution_count": 125,
   "id": "69788bc9",
   "metadata": {},
   "outputs": [],
   "source": [
    "def genetic_algorithm(pop_size, num_generations, mutation_rate):\n",
    "    # Initialize population\n",
    "    population = np.random.uniform(low=lb, high=ub, size=(pop_size, len(lb)))\n",
    "    \n",
    "    # Main loop\n",
    "    for generation in range(num_generations):\n",
    "        # Evaluate fitness\n",
    "        fitness = np.array([ran_forest_fitness(solution) for solution in population])\n",
    "        \n",
    "        # Find best solution in this generation\n",
    "        best_index = np.argmax(fitness)\n",
    "        best_fitness = fitness[best_index]\n",
    "        \n",
    "        print(f\"Generation {generation + 1}: Best Fitness = {best_fitness:.4f}\")\n",
    "        \n",
    "        # Select indices for parents based on fitness\n",
    "        parent_indices = np.argsort(fitness)[:pop_size // 2]\n",
    "        \n",
    "        # Get parents from the population array\n",
    "        parents = population[parent_indices]\n",
    "\n",
    "        # Create offspring through crossover and mutation\n",
    "        offspring = []\n",
    "        for _ in range(pop_size // 2):\n",
    "            parent1, parent2 = np.random.choice(parent_indices, size=2, replace=False)\n",
    "            parent1 = population[parent1]\n",
    "            parent2 = population[parent2]\n",
    "            crossover_point = np.random.randint(1, len(parent1) - 1)\n",
    "            child = np.concatenate((parent1[:crossover_point], parent2[crossover_point:]))\n",
    "            offspring.append(child)\n",
    "\n",
    "        offspring = np.array(offspring)\n",
    "\n",
    "        # Apply mutation\n",
    "        mask = np.random.random(size=offspring.shape) < mutation_rate\n",
    "        mutation = np.random.uniform(low=lb, high=ub, size=offspring.shape)\n",
    "        offspring[mask] = mutation[mask]\n",
    "\n",
    "        # Combine parents and offspring to form next generation\n",
    "        population = np.vstack((parents, offspring))\n",
    "    \n",
    "    # Find best solution overall\n",
    "    best_index = np.argmax(fitness)\n",
    "    best_solution = population[best_index]\n",
    "    \n",
    "    return best_solution"
   ]
  },
  {
   "cell_type": "code",
   "execution_count": 126,
   "id": "2f61f61b",
   "metadata": {},
   "outputs": [],
   "source": [
    "# Hyperparameters for the genetic algorithm\n",
    "population_size = 100\n",
    "generations = 100\n",
    "mutation_rate = 0.05"
   ]
  },
  {
   "cell_type": "code",
   "execution_count": 127,
   "id": "9e8240b3",
   "metadata": {
    "scrolled": true
   },
   "outputs": [
    {
     "name": "stdout",
     "output_type": "stream",
     "text": [
      "Generation 1: Best Fitness = -0.4567\n",
      "Generation 2: Best Fitness = -0.7183\n",
      "Generation 3: Best Fitness = -0.8177\n",
      "Generation 4: Best Fitness = -0.6849\n",
      "Generation 5: Best Fitness = -0.8236\n",
      "Generation 6: Best Fitness = -0.7604\n",
      "Generation 7: Best Fitness = -0.6349\n",
      "Generation 8: Best Fitness = -0.7836\n",
      "Generation 9: Best Fitness = -0.7847\n",
      "Generation 10: Best Fitness = -0.7622\n",
      "Generation 11: Best Fitness = -0.6739\n",
      "Generation 12: Best Fitness = -0.8510\n",
      "Generation 13: Best Fitness = -0.6649\n",
      "Generation 14: Best Fitness = -0.6335\n",
      "Generation 15: Best Fitness = -0.6717\n",
      "Generation 16: Best Fitness = -0.8346\n",
      "Generation 17: Best Fitness = -0.8196\n",
      "Generation 18: Best Fitness = -0.6698\n",
      "Generation 19: Best Fitness = -0.6808\n",
      "Generation 20: Best Fitness = -0.7197\n",
      "Generation 21: Best Fitness = -0.6651\n",
      "Generation 22: Best Fitness = -0.8321\n",
      "Generation 23: Best Fitness = -0.7270\n",
      "Generation 24: Best Fitness = -0.7790\n",
      "Generation 25: Best Fitness = -0.7489\n",
      "Generation 26: Best Fitness = -0.7132\n",
      "Generation 27: Best Fitness = -0.7917\n",
      "Generation 28: Best Fitness = -0.7639\n",
      "Generation 29: Best Fitness = -0.8607\n",
      "Generation 30: Best Fitness = -0.6984\n",
      "Generation 31: Best Fitness = -0.8647\n",
      "Generation 32: Best Fitness = -0.8599\n",
      "Generation 33: Best Fitness = -0.7836\n",
      "Generation 34: Best Fitness = -0.6916\n",
      "Generation 35: Best Fitness = -0.8110\n",
      "Generation 36: Best Fitness = -0.6868\n",
      "Generation 37: Best Fitness = -0.8323\n",
      "Generation 38: Best Fitness = -0.8617\n",
      "Generation 39: Best Fitness = -0.7697\n",
      "Generation 40: Best Fitness = -0.8204\n",
      "Generation 41: Best Fitness = -0.7449\n",
      "Generation 42: Best Fitness = -0.8307\n",
      "Generation 43: Best Fitness = -0.6928\n",
      "Generation 44: Best Fitness = -0.7904\n",
      "Generation 45: Best Fitness = -0.8787\n",
      "Generation 46: Best Fitness = -0.6891\n",
      "Generation 47: Best Fitness = -0.6891\n",
      "Generation 48: Best Fitness = -0.6660\n",
      "Generation 49: Best Fitness = -0.8580\n",
      "Generation 50: Best Fitness = -0.8715\n",
      "Generation 51: Best Fitness = -0.8593\n",
      "Generation 52: Best Fitness = -0.8141\n",
      "Generation 53: Best Fitness = -0.6851\n",
      "Generation 54: Best Fitness = -0.7021\n",
      "Generation 55: Best Fitness = -0.6798\n",
      "Generation 56: Best Fitness = -0.8852\n",
      "Generation 57: Best Fitness = -0.7181\n",
      "Generation 58: Best Fitness = -0.8807\n",
      "Generation 59: Best Fitness = -0.8039\n",
      "Generation 60: Best Fitness = -0.8743\n",
      "Generation 61: Best Fitness = -0.7059\n",
      "Generation 62: Best Fitness = -0.8831\n",
      "Generation 63: Best Fitness = -0.7794\n",
      "Generation 64: Best Fitness = -0.8270\n",
      "Generation 65: Best Fitness = -0.6840\n",
      "Generation 66: Best Fitness = -0.6819\n",
      "Generation 67: Best Fitness = -0.6451\n",
      "Generation 68: Best Fitness = -0.7936\n",
      "Generation 69: Best Fitness = -0.7868\n",
      "Generation 70: Best Fitness = -0.8615\n",
      "Generation 71: Best Fitness = -0.7934\n",
      "Generation 72: Best Fitness = -0.7073\n",
      "Generation 73: Best Fitness = -0.6955\n",
      "Generation 74: Best Fitness = -0.7699\n",
      "Generation 75: Best Fitness = -0.8555\n",
      "Generation 76: Best Fitness = -0.8714\n",
      "Generation 77: Best Fitness = -0.8601\n",
      "Generation 78: Best Fitness = -0.6637\n",
      "Generation 79: Best Fitness = -0.7992\n",
      "Generation 80: Best Fitness = -0.8719\n",
      "Generation 81: Best Fitness = -0.6899\n",
      "Generation 82: Best Fitness = -0.6742\n",
      "Generation 83: Best Fitness = -0.8064\n",
      "Generation 84: Best Fitness = -0.8009\n",
      "Generation 85: Best Fitness = -0.8877\n",
      "Generation 86: Best Fitness = -0.6724\n",
      "Generation 87: Best Fitness = -0.8023\n",
      "Generation 88: Best Fitness = -0.8833\n",
      "Generation 89: Best Fitness = -0.8544\n",
      "Generation 90: Best Fitness = -0.8054\n",
      "Generation 91: Best Fitness = -0.8519\n",
      "Generation 92: Best Fitness = -0.6966\n",
      "Generation 93: Best Fitness = -0.6829\n",
      "Generation 94: Best Fitness = -0.8002\n",
      "Generation 95: Best Fitness = -0.6621\n",
      "Generation 96: Best Fitness = -0.8641\n",
      "Generation 97: Best Fitness = -0.7931\n",
      "Generation 98: Best Fitness = -0.6930\n",
      "Generation 99: Best Fitness = -0.6801\n",
      "Generation 100: Best Fitness = -0.7245\n",
      "Best Fitness: -0.9255760603727354\n",
      "Optimal Solution: [491.35970031   2.00836264   1.67244561   3.22552141]\n"
     ]
    }
   ],
   "source": [
    "# Run the genetic algorithm\n",
    "best_solution = genetic_algorithm(population_size, generations, mutation_rate)\n",
    "best_fitness = ran_forest_fitness(best_solution)\n",
    "print(\"Best Fitness:\", best_fitness)\n",
    "print(\"Optimal Solution:\", best_solution)"
   ]
  },
  {
   "cell_type": "code",
   "execution_count": 12,
   "id": "4b6f0722",
   "metadata": {},
   "outputs": [],
   "source": [
    "best_num_estimator = int(best_solution[0])\n",
    "best_max_features = int(best_solution[1])\n",
    "best_max_sample_leaf = int(best_solution[2])\n",
    "best_max_depth = int(best_solution[3])"
   ]
  },
  {
   "cell_type": "code",
   "execution_count": 14,
   "id": "4f55fad8",
   "metadata": {},
   "outputs": [
    {
     "name": "stdout",
     "output_type": "stream",
     "text": [
      "Best Hyperparameters using Genetic Algorithm:\n",
      "n_estimators: 418\n",
      "max_features: 3\n",
      "max_samples_leaf: 1\n",
      "max_depth: 3\n"
     ]
    }
   ],
   "source": [
    "print(\"Best Hyperparameters using Genetic Algorithm:\")\n",
    "print(\"n_estimators:\", best_num_estimator)\n",
    "print(\"max_features:\", best_max_features)\n",
    "print(\"max_samples_leaf:\", best_max_sample_leaf)\n",
    "print(\"max_depth:\", best_max_depth)"
   ]
  },
  {
   "cell_type": "code",
   "execution_count": null,
   "id": "fcc2c4a4",
   "metadata": {},
   "outputs": [],
   "source": []
  },
  {
   "cell_type": "code",
   "execution_count": 27,
   "id": "7ad29910",
   "metadata": {},
   "outputs": [],
   "source": [
    "rf_optimized = RandomForestRegressor(n_estimators=best_num_estimator, \n",
    "                                     max_features=best_max_features, \n",
    "                                     min_samples_leaf=best_max_sample_leaf,\n",
    "                                     max_depth=best_max_depth)"
   ]
  },
  {
   "cell_type": "code",
   "execution_count": 32,
   "id": "3e94215e",
   "metadata": {},
   "outputs": [
    {
     "data": {
      "text/html": [
       "<style>#sk-container-id-4 {color: black;}#sk-container-id-4 pre{padding: 0;}#sk-container-id-4 div.sk-toggleable {background-color: white;}#sk-container-id-4 label.sk-toggleable__label {cursor: pointer;display: block;width: 100%;margin-bottom: 0;padding: 0.3em;box-sizing: border-box;text-align: center;}#sk-container-id-4 label.sk-toggleable__label-arrow:before {content: \"▸\";float: left;margin-right: 0.25em;color: #696969;}#sk-container-id-4 label.sk-toggleable__label-arrow:hover:before {color: black;}#sk-container-id-4 div.sk-estimator:hover label.sk-toggleable__label-arrow:before {color: black;}#sk-container-id-4 div.sk-toggleable__content {max-height: 0;max-width: 0;overflow: hidden;text-align: left;background-color: #f0f8ff;}#sk-container-id-4 div.sk-toggleable__content pre {margin: 0.2em;color: black;border-radius: 0.25em;background-color: #f0f8ff;}#sk-container-id-4 input.sk-toggleable__control:checked~div.sk-toggleable__content {max-height: 200px;max-width: 100%;overflow: auto;}#sk-container-id-4 input.sk-toggleable__control:checked~label.sk-toggleable__label-arrow:before {content: \"▾\";}#sk-container-id-4 div.sk-estimator input.sk-toggleable__control:checked~label.sk-toggleable__label {background-color: #d4ebff;}#sk-container-id-4 div.sk-label input.sk-toggleable__control:checked~label.sk-toggleable__label {background-color: #d4ebff;}#sk-container-id-4 input.sk-hidden--visually {border: 0;clip: rect(1px 1px 1px 1px);clip: rect(1px, 1px, 1px, 1px);height: 1px;margin: -1px;overflow: hidden;padding: 0;position: absolute;width: 1px;}#sk-container-id-4 div.sk-estimator {font-family: monospace;background-color: #f0f8ff;border: 1px dotted black;border-radius: 0.25em;box-sizing: border-box;margin-bottom: 0.5em;}#sk-container-id-4 div.sk-estimator:hover {background-color: #d4ebff;}#sk-container-id-4 div.sk-parallel-item::after {content: \"\";width: 100%;border-bottom: 1px solid gray;flex-grow: 1;}#sk-container-id-4 div.sk-label:hover label.sk-toggleable__label {background-color: #d4ebff;}#sk-container-id-4 div.sk-serial::before {content: \"\";position: absolute;border-left: 1px solid gray;box-sizing: border-box;top: 0;bottom: 0;left: 50%;z-index: 0;}#sk-container-id-4 div.sk-serial {display: flex;flex-direction: column;align-items: center;background-color: white;padding-right: 0.2em;padding-left: 0.2em;position: relative;}#sk-container-id-4 div.sk-item {position: relative;z-index: 1;}#sk-container-id-4 div.sk-parallel {display: flex;align-items: stretch;justify-content: center;background-color: white;position: relative;}#sk-container-id-4 div.sk-item::before, #sk-container-id-4 div.sk-parallel-item::before {content: \"\";position: absolute;border-left: 1px solid gray;box-sizing: border-box;top: 0;bottom: 0;left: 50%;z-index: -1;}#sk-container-id-4 div.sk-parallel-item {display: flex;flex-direction: column;z-index: 1;position: relative;background-color: white;}#sk-container-id-4 div.sk-parallel-item:first-child::after {align-self: flex-end;width: 50%;}#sk-container-id-4 div.sk-parallel-item:last-child::after {align-self: flex-start;width: 50%;}#sk-container-id-4 div.sk-parallel-item:only-child::after {width: 0;}#sk-container-id-4 div.sk-dashed-wrapped {border: 1px dashed gray;margin: 0 0.4em 0.5em 0.4em;box-sizing: border-box;padding-bottom: 0.4em;background-color: white;}#sk-container-id-4 div.sk-label label {font-family: monospace;font-weight: bold;display: inline-block;line-height: 1.2em;}#sk-container-id-4 div.sk-label-container {text-align: center;}#sk-container-id-4 div.sk-container {/* jupyter's `normalize.less` sets `[hidden] { display: none; }` but bootstrap.min.css set `[hidden] { display: none !important; }` so we also need the `!important` here to be able to override the default hidden behavior on the sphinx rendered scikit-learn.org. See: https://github.com/scikit-learn/scikit-learn/issues/21755 */display: inline-block !important;position: relative;}#sk-container-id-4 div.sk-text-repr-fallback {display: none;}</style><div id=\"sk-container-id-4\" class=\"sk-top-container\"><div class=\"sk-text-repr-fallback\"><pre>RandomForestRegressor(max_depth=3, max_features=3, n_estimators=418)</pre><b>In a Jupyter environment, please rerun this cell to show the HTML representation or trust the notebook. <br />On GitHub, the HTML representation is unable to render, please try loading this page with nbviewer.org.</b></div><div class=\"sk-container\" hidden><div class=\"sk-item\"><div class=\"sk-estimator sk-toggleable\"><input class=\"sk-toggleable__control sk-hidden--visually\" id=\"sk-estimator-id-4\" type=\"checkbox\" checked><label for=\"sk-estimator-id-4\" class=\"sk-toggleable__label sk-toggleable__label-arrow\">RandomForestRegressor</label><div class=\"sk-toggleable__content\"><pre>RandomForestRegressor(max_depth=3, max_features=3, n_estimators=418)</pre></div></div></div></div></div>"
      ],
      "text/plain": [
       "RandomForestRegressor(max_depth=3, max_features=3, n_estimators=418)"
      ]
     },
     "execution_count": 32,
     "metadata": {},
     "output_type": "execute_result"
    }
   ],
   "source": [
    "rf_optimized.fit(X_train1, y_train1.ravel())"
   ]
  },
  {
   "cell_type": "code",
   "execution_count": 33,
   "id": "17a95dfc",
   "metadata": {},
   "outputs": [],
   "source": [
    "pred_test = rf_optimized.predict(X_test1)"
   ]
  },
  {
   "cell_type": "code",
   "execution_count": 116,
   "id": "f006cb1a",
   "metadata": {
    "scrolled": true
   },
   "outputs": [
    {
     "name": "stdout",
     "output_type": "stream",
     "text": [
      "R^2 score of Test set prediction using GA: 0.8955155506798935\n"
     ]
    }
   ],
   "source": [
    "from sklearn.metrics import r2_score\n",
    "print(\"R^2 score of Test set prediction using GA:\", r2_score(y_test1,pred_test))"
   ]
  },
  {
   "cell_type": "code",
   "execution_count": 117,
   "id": "8a873d57",
   "metadata": {},
   "outputs": [
    {
     "name": "stdout",
     "output_type": "stream",
     "text": [
      "R^2 score of Train set prediction using GA: 0.822749219941723\n"
     ]
    }
   ],
   "source": [
    "pred_train = rf_optimized.predict(X_train1)\n",
    "print(\"R^2 score of Train set prediction using GA:\", r2_score(y_train1,pred_train))"
   ]
  },
  {
   "cell_type": "code",
   "execution_count": null,
   "id": "ec1bb677",
   "metadata": {},
   "outputs": [],
   "source": []
  },
  {
   "cell_type": "code",
   "execution_count": 105,
   "id": "f274a1c7",
   "metadata": {},
   "outputs": [],
   "source": [
    "model = rf_optimized.fit(X, y)"
   ]
  },
  {
   "cell_type": "code",
   "execution_count": 106,
   "id": "92be25f0",
   "metadata": {},
   "outputs": [],
   "source": [
    "# Create a function to be optimized by the algorithms\n",
    "def obj_fun(X):\n",
    "    results = model.predict(X.reshape(1, -1))  # Reshape X to match the number of features\n",
    "    return -results  # Negative to maximize the prediction (Yield)"
   ]
  },
  {
   "cell_type": "code",
   "execution_count": 107,
   "id": "1ede2c1a",
   "metadata": {},
   "outputs": [],
   "source": [
    "def genetic_algorithm(pop_size, num_generations, mutation_rate):\n",
    "    # Initialize population\n",
    "    population = np.random.uniform(low=lb, high=ub, size=(pop_size, len(lb)))\n",
    "    \n",
    "    # Main loop\n",
    "    for generation in range(num_generations):\n",
    "        # Evaluate fitness\n",
    "        fitness = np.array([obj_fun(solution) for solution in population])\n",
    "        \n",
    "        # Find best solution in this generation\n",
    "        best_index = np.argmax(fitness)\n",
    "        best_fitness = fitness[best_index]\n",
    "        \n",
    "        print(f\"Generation {generation + 1}: Best Fitness = {best_fitness[0]:.4f}\")\n",
    "        \n",
    "        # Select indices for parents based on fitness\n",
    "        parent_indices = np.argsort(fitness)[:pop_size // 2].ravel()\n",
    "        \n",
    "        # Get parents from the population array\n",
    "        parents = population[parent_indices]\n",
    "        \n",
    "        # Create offspring through crossover and mutation\n",
    "        offspring = []\n",
    "        for _ in range(pop_size // 2):\n",
    "            parent1 = np.random.choice(parent_indices, size=1, replace=False)[0]\n",
    "            parent2 = np.random.choice(parent_indices, size=1, replace=False)[0]\n",
    "            parent1 = population[parent1]\n",
    "            parent2 = population[parent2]\n",
    "            crossover_point = np.random.randint(1, len(parent1) - 1)\n",
    "            child = np.concatenate((parent1[:crossover_point], parent2[crossover_point:]))\n",
    "            offspring.append(child)\n",
    "\n",
    "        offspring = np.array(offspring)\n",
    "\n",
    "        # Apply mutation\n",
    "        mask = np.random.random(size=offspring.shape) < mutation_rate\n",
    "        mutation = np.random.uniform(low=lb, high=ub, size=offspring.shape)\n",
    "        offspring[mask] = mutation[mask]\n",
    "\n",
    "        # Combine parents and offspring to form next generation\n",
    "        population = np.vstack((parents, offspring))\n",
    "    \n",
    "    # Find best solution overall\n",
    "    best_index = np.argmax(fitness)\n",
    "    best_solution = population[best_index]\n",
    "    \n",
    "    return best_solution"
   ]
  },
  {
   "cell_type": "code",
   "execution_count": 108,
   "id": "6af3e8d2",
   "metadata": {},
   "outputs": [
    {
     "data": {
      "text/plain": [
       "([40, 1, 60, 6.0], [80, 5, 150, 15.0])"
      ]
     },
     "execution_count": 108,
     "metadata": {},
     "output_type": "execute_result"
    }
   ],
   "source": [
    "lb = [data['X1'].min(), data['X2'].min(),data['X3'].min(), data['X4'].min()]\n",
    "ub = [data['X1'].max(), data['X2'].max(),data['X3'].max(), data['X4'].max()]\n",
    "lb,ub"
   ]
  },
  {
   "cell_type": "code",
   "execution_count": 112,
   "id": "825f3cd4",
   "metadata": {},
   "outputs": [],
   "source": [
    "# Hyperparameters for the genetic algorithm\n",
    "population_size = 100\n",
    "generations = 100\n",
    "mutation_rate = 0.05"
   ]
  },
  {
   "cell_type": "code",
   "execution_count": 113,
   "id": "4c9a964e",
   "metadata": {},
   "outputs": [
    {
     "data": {
      "text/plain": [
       "X1     60.00\n",
       "X2      3.00\n",
       "X3    150.00\n",
       "X4      6.00\n",
       "Y      73.14\n",
       "Name: 10, dtype: float64"
      ]
     },
     "execution_count": 113,
     "metadata": {},
     "output_type": "execute_result"
    }
   ],
   "source": [
    "# Sort the DataFrame by the specified column in descending order\n",
    "sorted_data = data.sort_values(by='Y', ascending=False)\n",
    "# Select the first row (which will have the maximum value)\n",
    "max_row = sorted_data.iloc[0]\n",
    "max_row"
   ]
  },
  {
   "cell_type": "code",
   "execution_count": 114,
   "id": "7dfbe0f7",
   "metadata": {
    "scrolled": true
   },
   "outputs": [
    {
     "name": "stdout",
     "output_type": "stream",
     "text": [
      "Generation 1: Best Fitness = -43.7289\n",
      "Generation 2: Best Fitness = -43.7753\n",
      "Generation 3: Best Fitness = -45.7482\n",
      "Generation 4: Best Fitness = -44.8461\n",
      "Generation 5: Best Fitness = -45.7482\n",
      "Generation 6: Best Fitness = -43.7753\n",
      "Generation 7: Best Fitness = -43.7753\n",
      "Generation 8: Best Fitness = -45.7482\n",
      "Generation 9: Best Fitness = -45.7482\n",
      "Generation 10: Best Fitness = -45.6869\n",
      "Generation 11: Best Fitness = -45.6869\n",
      "Generation 12: Best Fitness = -45.7482\n",
      "Generation 13: Best Fitness = -45.7482\n",
      "Generation 14: Best Fitness = -45.7482\n",
      "Generation 15: Best Fitness = -44.8461\n",
      "Generation 16: Best Fitness = -44.8461\n",
      "Generation 17: Best Fitness = -45.7482\n",
      "Generation 18: Best Fitness = -43.7753\n",
      "Generation 19: Best Fitness = -43.7753\n",
      "Generation 20: Best Fitness = -43.7753\n",
      "Generation 21: Best Fitness = -43.7753\n",
      "Generation 22: Best Fitness = -45.6869\n",
      "Generation 23: Best Fitness = -44.8461\n",
      "Generation 24: Best Fitness = -45.6869\n",
      "Generation 25: Best Fitness = -45.7482\n",
      "Generation 26: Best Fitness = -45.7482\n",
      "Generation 27: Best Fitness = -43.7753\n",
      "Generation 28: Best Fitness = -44.8461\n",
      "Generation 29: Best Fitness = -45.7482\n",
      "Generation 30: Best Fitness = -43.7753\n",
      "Generation 31: Best Fitness = -45.6869\n",
      "Generation 32: Best Fitness = -43.7753\n",
      "Generation 33: Best Fitness = -45.6869\n",
      "Generation 34: Best Fitness = -43.7753\n",
      "Generation 35: Best Fitness = -43.7753\n",
      "Generation 36: Best Fitness = -43.7289\n",
      "Generation 37: Best Fitness = -43.7753\n",
      "Generation 38: Best Fitness = -44.8461\n",
      "Generation 39: Best Fitness = -43.7753\n",
      "Generation 40: Best Fitness = -44.8461\n",
      "Generation 41: Best Fitness = -44.8461\n",
      "Generation 42: Best Fitness = -43.7753\n",
      "Generation 43: Best Fitness = -45.6869\n",
      "Generation 44: Best Fitness = -45.6869\n",
      "Generation 45: Best Fitness = -43.7753\n",
      "Generation 46: Best Fitness = -45.7482\n",
      "Generation 47: Best Fitness = -43.7753\n",
      "Generation 48: Best Fitness = -45.7482\n",
      "Generation 49: Best Fitness = -43.7753\n",
      "Generation 50: Best Fitness = -43.7753\n",
      "Generation 51: Best Fitness = -45.6869\n",
      "Generation 52: Best Fitness = -44.8461\n",
      "Generation 53: Best Fitness = -44.8461\n",
      "Generation 54: Best Fitness = -45.7482\n",
      "Generation 55: Best Fitness = -44.8461\n",
      "Generation 56: Best Fitness = -45.7482\n",
      "Generation 57: Best Fitness = -43.7753\n",
      "Generation 58: Best Fitness = -43.7753\n",
      "Generation 59: Best Fitness = -43.7753\n",
      "Generation 60: Best Fitness = -44.8461\n",
      "Generation 61: Best Fitness = -45.6869\n",
      "Generation 62: Best Fitness = -43.7753\n",
      "Generation 63: Best Fitness = -45.6869\n",
      "Generation 64: Best Fitness = -43.7753\n",
      "Generation 65: Best Fitness = -43.7753\n",
      "Generation 66: Best Fitness = -43.7753\n",
      "Generation 67: Best Fitness = -45.7482\n",
      "Generation 68: Best Fitness = -43.7753\n",
      "Generation 69: Best Fitness = -45.7482\n",
      "Generation 70: Best Fitness = -45.6869\n",
      "Generation 71: Best Fitness = -44.8461\n",
      "Generation 72: Best Fitness = -45.7482\n",
      "Generation 73: Best Fitness = -44.8461\n",
      "Generation 74: Best Fitness = -44.8461\n",
      "Generation 75: Best Fitness = -43.7753\n",
      "Generation 76: Best Fitness = -43.7753\n",
      "Generation 77: Best Fitness = -44.8461\n",
      "Generation 78: Best Fitness = -44.8461\n",
      "Generation 79: Best Fitness = -44.8461\n",
      "Generation 80: Best Fitness = -43.7753\n",
      "Generation 81: Best Fitness = -43.7753\n",
      "Generation 82: Best Fitness = -43.7753\n",
      "Generation 83: Best Fitness = -43.7753\n",
      "Generation 84: Best Fitness = -43.7753\n",
      "Generation 85: Best Fitness = -43.7753\n",
      "Generation 86: Best Fitness = -45.7482\n",
      "Generation 87: Best Fitness = -43.7753\n",
      "Generation 88: Best Fitness = -45.6869\n",
      "Generation 89: Best Fitness = -45.7482\n",
      "Generation 90: Best Fitness = -43.6386\n",
      "Generation 91: Best Fitness = -43.7753\n",
      "Generation 92: Best Fitness = -45.7482\n",
      "Generation 93: Best Fitness = -44.8461\n",
      "Generation 94: Best Fitness = -43.7753\n",
      "Generation 95: Best Fitness = -44.8461\n",
      "Generation 96: Best Fitness = -43.7753\n",
      "Generation 97: Best Fitness = -44.8461\n",
      "Generation 98: Best Fitness = -45.7482\n",
      "Generation 99: Best Fitness = -43.7753\n",
      "Generation 100: Best Fitness = -43.7753\n",
      "Best Fitness: [-50.30004077]\n",
      "Optimal Solution: [67.49378792  4.40878968 88.5179989  11.13210093]\n"
     ]
    }
   ],
   "source": [
    "# Run the genetic algorithm\n",
    "op_best_solution = genetic_algorithm(population_size, generations, mutation_rate)\n",
    "op_best_fitness = obj_fun(op_best_solution)\n",
    "print(\"Best Fitness:\", op_best_fitness)\n",
    "print(\"Optimal Solution:\", op_best_solution)"
   ]
  },
  {
   "cell_type": "code",
   "execution_count": 104,
   "id": "c2f424a0",
   "metadata": {},
   "outputs": [
    {
     "name": "stdout",
     "output_type": "stream",
     "text": [
      "Best Solution:\n",
      "X1: 65.99529341672861\n",
      "X2: 2.0358318246588905\n",
      "X3: 130.71732522072298\n",
      "X4: 12.279217713594019\n",
      "Best Fitness(Y): [60.32652172]\n"
     ]
    }
   ],
   "source": [
    "print(\"Best Solution:\")\n",
    "print(\"X1:\", op_best_solution[0])\n",
    "print(\"X2:\", op_best_solution[1])\n",
    "print(\"X3:\", op_best_solution[2])\n",
    "print(\"X4:\", op_best_solution[3])\n",
    "print(\"Best Fitness(Y):\", -op_best_fitness)  # Convert back to positive as it was negated for maximization"
   ]
  },
  {
   "cell_type": "code",
   "execution_count": null,
   "id": "6a0eeb42",
   "metadata": {},
   "outputs": [],
   "source": []
  }
 ],
 "metadata": {
  "kernelspec": {
   "display_name": "Python 3 (ipykernel)",
   "language": "python",
   "name": "python3"
  },
  "language_info": {
   "codemirror_mode": {
    "name": "ipython",
    "version": 3
   },
   "file_extension": ".py",
   "mimetype": "text/x-python",
   "name": "python",
   "nbconvert_exporter": "python",
   "pygments_lexer": "ipython3",
   "version": "3.9.13"
  }
 },
 "nbformat": 4,
 "nbformat_minor": 5
}
